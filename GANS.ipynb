{
  "nbformat": 4,
  "nbformat_minor": 0,
  "metadata": {
    "colab": {
      "provenance": []
    },
    "kernelspec": {
      "name": "python3",
      "display_name": "Python 3"
    },
    "language_info": {
      "name": "python"
    },
    "accelerator": "GPU",
    "gpuClass": "standard",
    "widgets": {
      "application/vnd.jupyter.widget-state+json": {
        "164ef454ed6e420e9a0a587818601603": {
          "model_module": "@jupyter-widgets/controls",
          "model_name": "HBoxModel",
          "model_module_version": "1.5.0",
          "state": {
            "_dom_classes": [],
            "_model_module": "@jupyter-widgets/controls",
            "_model_module_version": "1.5.0",
            "_model_name": "HBoxModel",
            "_view_count": null,
            "_view_module": "@jupyter-widgets/controls",
            "_view_module_version": "1.5.0",
            "_view_name": "HBoxView",
            "box_style": "",
            "children": [
              "IPY_MODEL_f49d2df7c07148ee9a9d24868b421fa8",
              "IPY_MODEL_7bb4f346a68e4ed7b5a0fc9ea96b8852",
              "IPY_MODEL_df00b986e49d415da0a5a355d216132c"
            ],
            "layout": "IPY_MODEL_a7c2f11397a848f6a745f591b4d6164a"
          }
        },
        "f49d2df7c07148ee9a9d24868b421fa8": {
          "model_module": "@jupyter-widgets/controls",
          "model_name": "HTMLModel",
          "model_module_version": "1.5.0",
          "state": {
            "_dom_classes": [],
            "_model_module": "@jupyter-widgets/controls",
            "_model_module_version": "1.5.0",
            "_model_name": "HTMLModel",
            "_view_count": null,
            "_view_module": "@jupyter-widgets/controls",
            "_view_module_version": "1.5.0",
            "_view_name": "HTMLView",
            "description": "",
            "description_tooltip": null,
            "layout": "IPY_MODEL_274b8246f58b4a7688327e2da1d93077",
            "placeholder": "​",
            "style": "IPY_MODEL_2e174e63e1a544b39a021c8a7a863137",
            "value": "100%"
          }
        },
        "7bb4f346a68e4ed7b5a0fc9ea96b8852": {
          "model_module": "@jupyter-widgets/controls",
          "model_name": "FloatProgressModel",
          "model_module_version": "1.5.0",
          "state": {
            "_dom_classes": [],
            "_model_module": "@jupyter-widgets/controls",
            "_model_module_version": "1.5.0",
            "_model_name": "FloatProgressModel",
            "_view_count": null,
            "_view_module": "@jupyter-widgets/controls",
            "_view_module_version": "1.5.0",
            "_view_name": "ProgressView",
            "bar_style": "success",
            "description": "",
            "description_tooltip": null,
            "layout": "IPY_MODEL_acf7579fa09d423a9d69b994b970eda2",
            "max": 9912422,
            "min": 0,
            "orientation": "horizontal",
            "style": "IPY_MODEL_7cac52feaa7041a594488bf04ded5f2c",
            "value": 9912422
          }
        },
        "df00b986e49d415da0a5a355d216132c": {
          "model_module": "@jupyter-widgets/controls",
          "model_name": "HTMLModel",
          "model_module_version": "1.5.0",
          "state": {
            "_dom_classes": [],
            "_model_module": "@jupyter-widgets/controls",
            "_model_module_version": "1.5.0",
            "_model_name": "HTMLModel",
            "_view_count": null,
            "_view_module": "@jupyter-widgets/controls",
            "_view_module_version": "1.5.0",
            "_view_name": "HTMLView",
            "description": "",
            "description_tooltip": null,
            "layout": "IPY_MODEL_4c41ffdf3fe4412f806a4385ff46c457",
            "placeholder": "​",
            "style": "IPY_MODEL_e8c2b64d79b74402a5ca3cb4e17da78e",
            "value": " 9912422/9912422 [00:00&lt;00:00, 78877384.54it/s]"
          }
        },
        "a7c2f11397a848f6a745f591b4d6164a": {
          "model_module": "@jupyter-widgets/base",
          "model_name": "LayoutModel",
          "model_module_version": "1.2.0",
          "state": {
            "_model_module": "@jupyter-widgets/base",
            "_model_module_version": "1.2.0",
            "_model_name": "LayoutModel",
            "_view_count": null,
            "_view_module": "@jupyter-widgets/base",
            "_view_module_version": "1.2.0",
            "_view_name": "LayoutView",
            "align_content": null,
            "align_items": null,
            "align_self": null,
            "border": null,
            "bottom": null,
            "display": null,
            "flex": null,
            "flex_flow": null,
            "grid_area": null,
            "grid_auto_columns": null,
            "grid_auto_flow": null,
            "grid_auto_rows": null,
            "grid_column": null,
            "grid_gap": null,
            "grid_row": null,
            "grid_template_areas": null,
            "grid_template_columns": null,
            "grid_template_rows": null,
            "height": null,
            "justify_content": null,
            "justify_items": null,
            "left": null,
            "margin": null,
            "max_height": null,
            "max_width": null,
            "min_height": null,
            "min_width": null,
            "object_fit": null,
            "object_position": null,
            "order": null,
            "overflow": null,
            "overflow_x": null,
            "overflow_y": null,
            "padding": null,
            "right": null,
            "top": null,
            "visibility": null,
            "width": null
          }
        },
        "274b8246f58b4a7688327e2da1d93077": {
          "model_module": "@jupyter-widgets/base",
          "model_name": "LayoutModel",
          "model_module_version": "1.2.0",
          "state": {
            "_model_module": "@jupyter-widgets/base",
            "_model_module_version": "1.2.0",
            "_model_name": "LayoutModel",
            "_view_count": null,
            "_view_module": "@jupyter-widgets/base",
            "_view_module_version": "1.2.0",
            "_view_name": "LayoutView",
            "align_content": null,
            "align_items": null,
            "align_self": null,
            "border": null,
            "bottom": null,
            "display": null,
            "flex": null,
            "flex_flow": null,
            "grid_area": null,
            "grid_auto_columns": null,
            "grid_auto_flow": null,
            "grid_auto_rows": null,
            "grid_column": null,
            "grid_gap": null,
            "grid_row": null,
            "grid_template_areas": null,
            "grid_template_columns": null,
            "grid_template_rows": null,
            "height": null,
            "justify_content": null,
            "justify_items": null,
            "left": null,
            "margin": null,
            "max_height": null,
            "max_width": null,
            "min_height": null,
            "min_width": null,
            "object_fit": null,
            "object_position": null,
            "order": null,
            "overflow": null,
            "overflow_x": null,
            "overflow_y": null,
            "padding": null,
            "right": null,
            "top": null,
            "visibility": null,
            "width": null
          }
        },
        "2e174e63e1a544b39a021c8a7a863137": {
          "model_module": "@jupyter-widgets/controls",
          "model_name": "DescriptionStyleModel",
          "model_module_version": "1.5.0",
          "state": {
            "_model_module": "@jupyter-widgets/controls",
            "_model_module_version": "1.5.0",
            "_model_name": "DescriptionStyleModel",
            "_view_count": null,
            "_view_module": "@jupyter-widgets/base",
            "_view_module_version": "1.2.0",
            "_view_name": "StyleView",
            "description_width": ""
          }
        },
        "acf7579fa09d423a9d69b994b970eda2": {
          "model_module": "@jupyter-widgets/base",
          "model_name": "LayoutModel",
          "model_module_version": "1.2.0",
          "state": {
            "_model_module": "@jupyter-widgets/base",
            "_model_module_version": "1.2.0",
            "_model_name": "LayoutModel",
            "_view_count": null,
            "_view_module": "@jupyter-widgets/base",
            "_view_module_version": "1.2.0",
            "_view_name": "LayoutView",
            "align_content": null,
            "align_items": null,
            "align_self": null,
            "border": null,
            "bottom": null,
            "display": null,
            "flex": null,
            "flex_flow": null,
            "grid_area": null,
            "grid_auto_columns": null,
            "grid_auto_flow": null,
            "grid_auto_rows": null,
            "grid_column": null,
            "grid_gap": null,
            "grid_row": null,
            "grid_template_areas": null,
            "grid_template_columns": null,
            "grid_template_rows": null,
            "height": null,
            "justify_content": null,
            "justify_items": null,
            "left": null,
            "margin": null,
            "max_height": null,
            "max_width": null,
            "min_height": null,
            "min_width": null,
            "object_fit": null,
            "object_position": null,
            "order": null,
            "overflow": null,
            "overflow_x": null,
            "overflow_y": null,
            "padding": null,
            "right": null,
            "top": null,
            "visibility": null,
            "width": null
          }
        },
        "7cac52feaa7041a594488bf04ded5f2c": {
          "model_module": "@jupyter-widgets/controls",
          "model_name": "ProgressStyleModel",
          "model_module_version": "1.5.0",
          "state": {
            "_model_module": "@jupyter-widgets/controls",
            "_model_module_version": "1.5.0",
            "_model_name": "ProgressStyleModel",
            "_view_count": null,
            "_view_module": "@jupyter-widgets/base",
            "_view_module_version": "1.2.0",
            "_view_name": "StyleView",
            "bar_color": null,
            "description_width": ""
          }
        },
        "4c41ffdf3fe4412f806a4385ff46c457": {
          "model_module": "@jupyter-widgets/base",
          "model_name": "LayoutModel",
          "model_module_version": "1.2.0",
          "state": {
            "_model_module": "@jupyter-widgets/base",
            "_model_module_version": "1.2.0",
            "_model_name": "LayoutModel",
            "_view_count": null,
            "_view_module": "@jupyter-widgets/base",
            "_view_module_version": "1.2.0",
            "_view_name": "LayoutView",
            "align_content": null,
            "align_items": null,
            "align_self": null,
            "border": null,
            "bottom": null,
            "display": null,
            "flex": null,
            "flex_flow": null,
            "grid_area": null,
            "grid_auto_columns": null,
            "grid_auto_flow": null,
            "grid_auto_rows": null,
            "grid_column": null,
            "grid_gap": null,
            "grid_row": null,
            "grid_template_areas": null,
            "grid_template_columns": null,
            "grid_template_rows": null,
            "height": null,
            "justify_content": null,
            "justify_items": null,
            "left": null,
            "margin": null,
            "max_height": null,
            "max_width": null,
            "min_height": null,
            "min_width": null,
            "object_fit": null,
            "object_position": null,
            "order": null,
            "overflow": null,
            "overflow_x": null,
            "overflow_y": null,
            "padding": null,
            "right": null,
            "top": null,
            "visibility": null,
            "width": null
          }
        },
        "e8c2b64d79b74402a5ca3cb4e17da78e": {
          "model_module": "@jupyter-widgets/controls",
          "model_name": "DescriptionStyleModel",
          "model_module_version": "1.5.0",
          "state": {
            "_model_module": "@jupyter-widgets/controls",
            "_model_module_version": "1.5.0",
            "_model_name": "DescriptionStyleModel",
            "_view_count": null,
            "_view_module": "@jupyter-widgets/base",
            "_view_module_version": "1.2.0",
            "_view_name": "StyleView",
            "description_width": ""
          }
        },
        "6e1036b0db1843eab009ac7db55a5dbd": {
          "model_module": "@jupyter-widgets/controls",
          "model_name": "HBoxModel",
          "model_module_version": "1.5.0",
          "state": {
            "_dom_classes": [],
            "_model_module": "@jupyter-widgets/controls",
            "_model_module_version": "1.5.0",
            "_model_name": "HBoxModel",
            "_view_count": null,
            "_view_module": "@jupyter-widgets/controls",
            "_view_module_version": "1.5.0",
            "_view_name": "HBoxView",
            "box_style": "",
            "children": [
              "IPY_MODEL_e142ed763fb7428c862d128baddd9c1c",
              "IPY_MODEL_e8d92d42e6ff429681f1645136c9f81b",
              "IPY_MODEL_a1a270e878e14e07be57f074a3565fd8"
            ],
            "layout": "IPY_MODEL_de047e49c1ab4540b7bd7534bee30427"
          }
        },
        "e142ed763fb7428c862d128baddd9c1c": {
          "model_module": "@jupyter-widgets/controls",
          "model_name": "HTMLModel",
          "model_module_version": "1.5.0",
          "state": {
            "_dom_classes": [],
            "_model_module": "@jupyter-widgets/controls",
            "_model_module_version": "1.5.0",
            "_model_name": "HTMLModel",
            "_view_count": null,
            "_view_module": "@jupyter-widgets/controls",
            "_view_module_version": "1.5.0",
            "_view_name": "HTMLView",
            "description": "",
            "description_tooltip": null,
            "layout": "IPY_MODEL_b6524e73bc6c4e9d81b82fab3905e35e",
            "placeholder": "​",
            "style": "IPY_MODEL_e215d5ad69f34ce3969ddb173940464f",
            "value": "100%"
          }
        },
        "e8d92d42e6ff429681f1645136c9f81b": {
          "model_module": "@jupyter-widgets/controls",
          "model_name": "FloatProgressModel",
          "model_module_version": "1.5.0",
          "state": {
            "_dom_classes": [],
            "_model_module": "@jupyter-widgets/controls",
            "_model_module_version": "1.5.0",
            "_model_name": "FloatProgressModel",
            "_view_count": null,
            "_view_module": "@jupyter-widgets/controls",
            "_view_module_version": "1.5.0",
            "_view_name": "ProgressView",
            "bar_style": "success",
            "description": "",
            "description_tooltip": null,
            "layout": "IPY_MODEL_7f06b90c56a0474e9debcf0294e984dc",
            "max": 28881,
            "min": 0,
            "orientation": "horizontal",
            "style": "IPY_MODEL_d2ec7d39e53a45118f97b3d9670d9bdb",
            "value": 28881
          }
        },
        "a1a270e878e14e07be57f074a3565fd8": {
          "model_module": "@jupyter-widgets/controls",
          "model_name": "HTMLModel",
          "model_module_version": "1.5.0",
          "state": {
            "_dom_classes": [],
            "_model_module": "@jupyter-widgets/controls",
            "_model_module_version": "1.5.0",
            "_model_name": "HTMLModel",
            "_view_count": null,
            "_view_module": "@jupyter-widgets/controls",
            "_view_module_version": "1.5.0",
            "_view_name": "HTMLView",
            "description": "",
            "description_tooltip": null,
            "layout": "IPY_MODEL_1c80cc44d9b44aceb57729d786db6568",
            "placeholder": "​",
            "style": "IPY_MODEL_e38c94230c924070a4c8b90d2fd81897",
            "value": " 28881/28881 [00:00&lt;00:00, 839605.02it/s]"
          }
        },
        "de047e49c1ab4540b7bd7534bee30427": {
          "model_module": "@jupyter-widgets/base",
          "model_name": "LayoutModel",
          "model_module_version": "1.2.0",
          "state": {
            "_model_module": "@jupyter-widgets/base",
            "_model_module_version": "1.2.0",
            "_model_name": "LayoutModel",
            "_view_count": null,
            "_view_module": "@jupyter-widgets/base",
            "_view_module_version": "1.2.0",
            "_view_name": "LayoutView",
            "align_content": null,
            "align_items": null,
            "align_self": null,
            "border": null,
            "bottom": null,
            "display": null,
            "flex": null,
            "flex_flow": null,
            "grid_area": null,
            "grid_auto_columns": null,
            "grid_auto_flow": null,
            "grid_auto_rows": null,
            "grid_column": null,
            "grid_gap": null,
            "grid_row": null,
            "grid_template_areas": null,
            "grid_template_columns": null,
            "grid_template_rows": null,
            "height": null,
            "justify_content": null,
            "justify_items": null,
            "left": null,
            "margin": null,
            "max_height": null,
            "max_width": null,
            "min_height": null,
            "min_width": null,
            "object_fit": null,
            "object_position": null,
            "order": null,
            "overflow": null,
            "overflow_x": null,
            "overflow_y": null,
            "padding": null,
            "right": null,
            "top": null,
            "visibility": null,
            "width": null
          }
        },
        "b6524e73bc6c4e9d81b82fab3905e35e": {
          "model_module": "@jupyter-widgets/base",
          "model_name": "LayoutModel",
          "model_module_version": "1.2.0",
          "state": {
            "_model_module": "@jupyter-widgets/base",
            "_model_module_version": "1.2.0",
            "_model_name": "LayoutModel",
            "_view_count": null,
            "_view_module": "@jupyter-widgets/base",
            "_view_module_version": "1.2.0",
            "_view_name": "LayoutView",
            "align_content": null,
            "align_items": null,
            "align_self": null,
            "border": null,
            "bottom": null,
            "display": null,
            "flex": null,
            "flex_flow": null,
            "grid_area": null,
            "grid_auto_columns": null,
            "grid_auto_flow": null,
            "grid_auto_rows": null,
            "grid_column": null,
            "grid_gap": null,
            "grid_row": null,
            "grid_template_areas": null,
            "grid_template_columns": null,
            "grid_template_rows": null,
            "height": null,
            "justify_content": null,
            "justify_items": null,
            "left": null,
            "margin": null,
            "max_height": null,
            "max_width": null,
            "min_height": null,
            "min_width": null,
            "object_fit": null,
            "object_position": null,
            "order": null,
            "overflow": null,
            "overflow_x": null,
            "overflow_y": null,
            "padding": null,
            "right": null,
            "top": null,
            "visibility": null,
            "width": null
          }
        },
        "e215d5ad69f34ce3969ddb173940464f": {
          "model_module": "@jupyter-widgets/controls",
          "model_name": "DescriptionStyleModel",
          "model_module_version": "1.5.0",
          "state": {
            "_model_module": "@jupyter-widgets/controls",
            "_model_module_version": "1.5.0",
            "_model_name": "DescriptionStyleModel",
            "_view_count": null,
            "_view_module": "@jupyter-widgets/base",
            "_view_module_version": "1.2.0",
            "_view_name": "StyleView",
            "description_width": ""
          }
        },
        "7f06b90c56a0474e9debcf0294e984dc": {
          "model_module": "@jupyter-widgets/base",
          "model_name": "LayoutModel",
          "model_module_version": "1.2.0",
          "state": {
            "_model_module": "@jupyter-widgets/base",
            "_model_module_version": "1.2.0",
            "_model_name": "LayoutModel",
            "_view_count": null,
            "_view_module": "@jupyter-widgets/base",
            "_view_module_version": "1.2.0",
            "_view_name": "LayoutView",
            "align_content": null,
            "align_items": null,
            "align_self": null,
            "border": null,
            "bottom": null,
            "display": null,
            "flex": null,
            "flex_flow": null,
            "grid_area": null,
            "grid_auto_columns": null,
            "grid_auto_flow": null,
            "grid_auto_rows": null,
            "grid_column": null,
            "grid_gap": null,
            "grid_row": null,
            "grid_template_areas": null,
            "grid_template_columns": null,
            "grid_template_rows": null,
            "height": null,
            "justify_content": null,
            "justify_items": null,
            "left": null,
            "margin": null,
            "max_height": null,
            "max_width": null,
            "min_height": null,
            "min_width": null,
            "object_fit": null,
            "object_position": null,
            "order": null,
            "overflow": null,
            "overflow_x": null,
            "overflow_y": null,
            "padding": null,
            "right": null,
            "top": null,
            "visibility": null,
            "width": null
          }
        },
        "d2ec7d39e53a45118f97b3d9670d9bdb": {
          "model_module": "@jupyter-widgets/controls",
          "model_name": "ProgressStyleModel",
          "model_module_version": "1.5.0",
          "state": {
            "_model_module": "@jupyter-widgets/controls",
            "_model_module_version": "1.5.0",
            "_model_name": "ProgressStyleModel",
            "_view_count": null,
            "_view_module": "@jupyter-widgets/base",
            "_view_module_version": "1.2.0",
            "_view_name": "StyleView",
            "bar_color": null,
            "description_width": ""
          }
        },
        "1c80cc44d9b44aceb57729d786db6568": {
          "model_module": "@jupyter-widgets/base",
          "model_name": "LayoutModel",
          "model_module_version": "1.2.0",
          "state": {
            "_model_module": "@jupyter-widgets/base",
            "_model_module_version": "1.2.0",
            "_model_name": "LayoutModel",
            "_view_count": null,
            "_view_module": "@jupyter-widgets/base",
            "_view_module_version": "1.2.0",
            "_view_name": "LayoutView",
            "align_content": null,
            "align_items": null,
            "align_self": null,
            "border": null,
            "bottom": null,
            "display": null,
            "flex": null,
            "flex_flow": null,
            "grid_area": null,
            "grid_auto_columns": null,
            "grid_auto_flow": null,
            "grid_auto_rows": null,
            "grid_column": null,
            "grid_gap": null,
            "grid_row": null,
            "grid_template_areas": null,
            "grid_template_columns": null,
            "grid_template_rows": null,
            "height": null,
            "justify_content": null,
            "justify_items": null,
            "left": null,
            "margin": null,
            "max_height": null,
            "max_width": null,
            "min_height": null,
            "min_width": null,
            "object_fit": null,
            "object_position": null,
            "order": null,
            "overflow": null,
            "overflow_x": null,
            "overflow_y": null,
            "padding": null,
            "right": null,
            "top": null,
            "visibility": null,
            "width": null
          }
        },
        "e38c94230c924070a4c8b90d2fd81897": {
          "model_module": "@jupyter-widgets/controls",
          "model_name": "DescriptionStyleModel",
          "model_module_version": "1.5.0",
          "state": {
            "_model_module": "@jupyter-widgets/controls",
            "_model_module_version": "1.5.0",
            "_model_name": "DescriptionStyleModel",
            "_view_count": null,
            "_view_module": "@jupyter-widgets/base",
            "_view_module_version": "1.2.0",
            "_view_name": "StyleView",
            "description_width": ""
          }
        },
        "067525d3d16745d1b9b160ae6e7585d5": {
          "model_module": "@jupyter-widgets/controls",
          "model_name": "HBoxModel",
          "model_module_version": "1.5.0",
          "state": {
            "_dom_classes": [],
            "_model_module": "@jupyter-widgets/controls",
            "_model_module_version": "1.5.0",
            "_model_name": "HBoxModel",
            "_view_count": null,
            "_view_module": "@jupyter-widgets/controls",
            "_view_module_version": "1.5.0",
            "_view_name": "HBoxView",
            "box_style": "",
            "children": [
              "IPY_MODEL_f1630588ca9e41159de83a93643bdfbe",
              "IPY_MODEL_fce877e31cbd4f969c68234b5defa878",
              "IPY_MODEL_18663a6f429f4340bd98a29898f5b869"
            ],
            "layout": "IPY_MODEL_0f4d6d4cfdd04ea99eb1081396d25bef"
          }
        },
        "f1630588ca9e41159de83a93643bdfbe": {
          "model_module": "@jupyter-widgets/controls",
          "model_name": "HTMLModel",
          "model_module_version": "1.5.0",
          "state": {
            "_dom_classes": [],
            "_model_module": "@jupyter-widgets/controls",
            "_model_module_version": "1.5.0",
            "_model_name": "HTMLModel",
            "_view_count": null,
            "_view_module": "@jupyter-widgets/controls",
            "_view_module_version": "1.5.0",
            "_view_name": "HTMLView",
            "description": "",
            "description_tooltip": null,
            "layout": "IPY_MODEL_28cc00a63bc241c8a29854b53397136c",
            "placeholder": "​",
            "style": "IPY_MODEL_ed1c7882373a4256a23a5528a3b5828c",
            "value": "100%"
          }
        },
        "fce877e31cbd4f969c68234b5defa878": {
          "model_module": "@jupyter-widgets/controls",
          "model_name": "FloatProgressModel",
          "model_module_version": "1.5.0",
          "state": {
            "_dom_classes": [],
            "_model_module": "@jupyter-widgets/controls",
            "_model_module_version": "1.5.0",
            "_model_name": "FloatProgressModel",
            "_view_count": null,
            "_view_module": "@jupyter-widgets/controls",
            "_view_module_version": "1.5.0",
            "_view_name": "ProgressView",
            "bar_style": "success",
            "description": "",
            "description_tooltip": null,
            "layout": "IPY_MODEL_81d6b4c705074290970a03d7d8fa1af3",
            "max": 1648877,
            "min": 0,
            "orientation": "horizontal",
            "style": "IPY_MODEL_d471942846324cb5b410c94af7fbff84",
            "value": 1648877
          }
        },
        "18663a6f429f4340bd98a29898f5b869": {
          "model_module": "@jupyter-widgets/controls",
          "model_name": "HTMLModel",
          "model_module_version": "1.5.0",
          "state": {
            "_dom_classes": [],
            "_model_module": "@jupyter-widgets/controls",
            "_model_module_version": "1.5.0",
            "_model_name": "HTMLModel",
            "_view_count": null,
            "_view_module": "@jupyter-widgets/controls",
            "_view_module_version": "1.5.0",
            "_view_name": "HTMLView",
            "description": "",
            "description_tooltip": null,
            "layout": "IPY_MODEL_3fc4d97656224d3bafd3a18d5d0ed346",
            "placeholder": "​",
            "style": "IPY_MODEL_b9690cc5e2414e5095899e21d2679d46",
            "value": " 1648877/1648877 [00:00&lt;00:00, 21659133.86it/s]"
          }
        },
        "0f4d6d4cfdd04ea99eb1081396d25bef": {
          "model_module": "@jupyter-widgets/base",
          "model_name": "LayoutModel",
          "model_module_version": "1.2.0",
          "state": {
            "_model_module": "@jupyter-widgets/base",
            "_model_module_version": "1.2.0",
            "_model_name": "LayoutModel",
            "_view_count": null,
            "_view_module": "@jupyter-widgets/base",
            "_view_module_version": "1.2.0",
            "_view_name": "LayoutView",
            "align_content": null,
            "align_items": null,
            "align_self": null,
            "border": null,
            "bottom": null,
            "display": null,
            "flex": null,
            "flex_flow": null,
            "grid_area": null,
            "grid_auto_columns": null,
            "grid_auto_flow": null,
            "grid_auto_rows": null,
            "grid_column": null,
            "grid_gap": null,
            "grid_row": null,
            "grid_template_areas": null,
            "grid_template_columns": null,
            "grid_template_rows": null,
            "height": null,
            "justify_content": null,
            "justify_items": null,
            "left": null,
            "margin": null,
            "max_height": null,
            "max_width": null,
            "min_height": null,
            "min_width": null,
            "object_fit": null,
            "object_position": null,
            "order": null,
            "overflow": null,
            "overflow_x": null,
            "overflow_y": null,
            "padding": null,
            "right": null,
            "top": null,
            "visibility": null,
            "width": null
          }
        },
        "28cc00a63bc241c8a29854b53397136c": {
          "model_module": "@jupyter-widgets/base",
          "model_name": "LayoutModel",
          "model_module_version": "1.2.0",
          "state": {
            "_model_module": "@jupyter-widgets/base",
            "_model_module_version": "1.2.0",
            "_model_name": "LayoutModel",
            "_view_count": null,
            "_view_module": "@jupyter-widgets/base",
            "_view_module_version": "1.2.0",
            "_view_name": "LayoutView",
            "align_content": null,
            "align_items": null,
            "align_self": null,
            "border": null,
            "bottom": null,
            "display": null,
            "flex": null,
            "flex_flow": null,
            "grid_area": null,
            "grid_auto_columns": null,
            "grid_auto_flow": null,
            "grid_auto_rows": null,
            "grid_column": null,
            "grid_gap": null,
            "grid_row": null,
            "grid_template_areas": null,
            "grid_template_columns": null,
            "grid_template_rows": null,
            "height": null,
            "justify_content": null,
            "justify_items": null,
            "left": null,
            "margin": null,
            "max_height": null,
            "max_width": null,
            "min_height": null,
            "min_width": null,
            "object_fit": null,
            "object_position": null,
            "order": null,
            "overflow": null,
            "overflow_x": null,
            "overflow_y": null,
            "padding": null,
            "right": null,
            "top": null,
            "visibility": null,
            "width": null
          }
        },
        "ed1c7882373a4256a23a5528a3b5828c": {
          "model_module": "@jupyter-widgets/controls",
          "model_name": "DescriptionStyleModel",
          "model_module_version": "1.5.0",
          "state": {
            "_model_module": "@jupyter-widgets/controls",
            "_model_module_version": "1.5.0",
            "_model_name": "DescriptionStyleModel",
            "_view_count": null,
            "_view_module": "@jupyter-widgets/base",
            "_view_module_version": "1.2.0",
            "_view_name": "StyleView",
            "description_width": ""
          }
        },
        "81d6b4c705074290970a03d7d8fa1af3": {
          "model_module": "@jupyter-widgets/base",
          "model_name": "LayoutModel",
          "model_module_version": "1.2.0",
          "state": {
            "_model_module": "@jupyter-widgets/base",
            "_model_module_version": "1.2.0",
            "_model_name": "LayoutModel",
            "_view_count": null,
            "_view_module": "@jupyter-widgets/base",
            "_view_module_version": "1.2.0",
            "_view_name": "LayoutView",
            "align_content": null,
            "align_items": null,
            "align_self": null,
            "border": null,
            "bottom": null,
            "display": null,
            "flex": null,
            "flex_flow": null,
            "grid_area": null,
            "grid_auto_columns": null,
            "grid_auto_flow": null,
            "grid_auto_rows": null,
            "grid_column": null,
            "grid_gap": null,
            "grid_row": null,
            "grid_template_areas": null,
            "grid_template_columns": null,
            "grid_template_rows": null,
            "height": null,
            "justify_content": null,
            "justify_items": null,
            "left": null,
            "margin": null,
            "max_height": null,
            "max_width": null,
            "min_height": null,
            "min_width": null,
            "object_fit": null,
            "object_position": null,
            "order": null,
            "overflow": null,
            "overflow_x": null,
            "overflow_y": null,
            "padding": null,
            "right": null,
            "top": null,
            "visibility": null,
            "width": null
          }
        },
        "d471942846324cb5b410c94af7fbff84": {
          "model_module": "@jupyter-widgets/controls",
          "model_name": "ProgressStyleModel",
          "model_module_version": "1.5.0",
          "state": {
            "_model_module": "@jupyter-widgets/controls",
            "_model_module_version": "1.5.0",
            "_model_name": "ProgressStyleModel",
            "_view_count": null,
            "_view_module": "@jupyter-widgets/base",
            "_view_module_version": "1.2.0",
            "_view_name": "StyleView",
            "bar_color": null,
            "description_width": ""
          }
        },
        "3fc4d97656224d3bafd3a18d5d0ed346": {
          "model_module": "@jupyter-widgets/base",
          "model_name": "LayoutModel",
          "model_module_version": "1.2.0",
          "state": {
            "_model_module": "@jupyter-widgets/base",
            "_model_module_version": "1.2.0",
            "_model_name": "LayoutModel",
            "_view_count": null,
            "_view_module": "@jupyter-widgets/base",
            "_view_module_version": "1.2.0",
            "_view_name": "LayoutView",
            "align_content": null,
            "align_items": null,
            "align_self": null,
            "border": null,
            "bottom": null,
            "display": null,
            "flex": null,
            "flex_flow": null,
            "grid_area": null,
            "grid_auto_columns": null,
            "grid_auto_flow": null,
            "grid_auto_rows": null,
            "grid_column": null,
            "grid_gap": null,
            "grid_row": null,
            "grid_template_areas": null,
            "grid_template_columns": null,
            "grid_template_rows": null,
            "height": null,
            "justify_content": null,
            "justify_items": null,
            "left": null,
            "margin": null,
            "max_height": null,
            "max_width": null,
            "min_height": null,
            "min_width": null,
            "object_fit": null,
            "object_position": null,
            "order": null,
            "overflow": null,
            "overflow_x": null,
            "overflow_y": null,
            "padding": null,
            "right": null,
            "top": null,
            "visibility": null,
            "width": null
          }
        },
        "b9690cc5e2414e5095899e21d2679d46": {
          "model_module": "@jupyter-widgets/controls",
          "model_name": "DescriptionStyleModel",
          "model_module_version": "1.5.0",
          "state": {
            "_model_module": "@jupyter-widgets/controls",
            "_model_module_version": "1.5.0",
            "_model_name": "DescriptionStyleModel",
            "_view_count": null,
            "_view_module": "@jupyter-widgets/base",
            "_view_module_version": "1.2.0",
            "_view_name": "StyleView",
            "description_width": ""
          }
        },
        "d5d431b9a3ae466a9ea3cce1335949b3": {
          "model_module": "@jupyter-widgets/controls",
          "model_name": "HBoxModel",
          "model_module_version": "1.5.0",
          "state": {
            "_dom_classes": [],
            "_model_module": "@jupyter-widgets/controls",
            "_model_module_version": "1.5.0",
            "_model_name": "HBoxModel",
            "_view_count": null,
            "_view_module": "@jupyter-widgets/controls",
            "_view_module_version": "1.5.0",
            "_view_name": "HBoxView",
            "box_style": "",
            "children": [
              "IPY_MODEL_fad20dfbabed4968a6a7ff3955763657",
              "IPY_MODEL_5df7fc40d2254601baf1c0601e3f5ba2",
              "IPY_MODEL_87c37a1748db45d6bac03e9a2ffbc65e"
            ],
            "layout": "IPY_MODEL_6916a69eb7df4e32afe2742296c9c5b9"
          }
        },
        "fad20dfbabed4968a6a7ff3955763657": {
          "model_module": "@jupyter-widgets/controls",
          "model_name": "HTMLModel",
          "model_module_version": "1.5.0",
          "state": {
            "_dom_classes": [],
            "_model_module": "@jupyter-widgets/controls",
            "_model_module_version": "1.5.0",
            "_model_name": "HTMLModel",
            "_view_count": null,
            "_view_module": "@jupyter-widgets/controls",
            "_view_module_version": "1.5.0",
            "_view_name": "HTMLView",
            "description": "",
            "description_tooltip": null,
            "layout": "IPY_MODEL_3b281a62f50b4c339bb76609883bcf6a",
            "placeholder": "​",
            "style": "IPY_MODEL_ee7f648ba20f4f1fa911629153292537",
            "value": "100%"
          }
        },
        "5df7fc40d2254601baf1c0601e3f5ba2": {
          "model_module": "@jupyter-widgets/controls",
          "model_name": "FloatProgressModel",
          "model_module_version": "1.5.0",
          "state": {
            "_dom_classes": [],
            "_model_module": "@jupyter-widgets/controls",
            "_model_module_version": "1.5.0",
            "_model_name": "FloatProgressModel",
            "_view_count": null,
            "_view_module": "@jupyter-widgets/controls",
            "_view_module_version": "1.5.0",
            "_view_name": "ProgressView",
            "bar_style": "success",
            "description": "",
            "description_tooltip": null,
            "layout": "IPY_MODEL_a53c67ba9c5948e4b54b62e39c2e76be",
            "max": 4542,
            "min": 0,
            "orientation": "horizontal",
            "style": "IPY_MODEL_e6961aa0e25e48f7b10f308e75082349",
            "value": 4542
          }
        },
        "87c37a1748db45d6bac03e9a2ffbc65e": {
          "model_module": "@jupyter-widgets/controls",
          "model_name": "HTMLModel",
          "model_module_version": "1.5.0",
          "state": {
            "_dom_classes": [],
            "_model_module": "@jupyter-widgets/controls",
            "_model_module_version": "1.5.0",
            "_model_name": "HTMLModel",
            "_view_count": null,
            "_view_module": "@jupyter-widgets/controls",
            "_view_module_version": "1.5.0",
            "_view_name": "HTMLView",
            "description": "",
            "description_tooltip": null,
            "layout": "IPY_MODEL_5ed36cb51b8d4b54bab2dffd1d69c349",
            "placeholder": "​",
            "style": "IPY_MODEL_0300d4ad0e624faba2d671720b11c48d",
            "value": " 4542/4542 [00:00&lt;00:00, 116904.53it/s]"
          }
        },
        "6916a69eb7df4e32afe2742296c9c5b9": {
          "model_module": "@jupyter-widgets/base",
          "model_name": "LayoutModel",
          "model_module_version": "1.2.0",
          "state": {
            "_model_module": "@jupyter-widgets/base",
            "_model_module_version": "1.2.0",
            "_model_name": "LayoutModel",
            "_view_count": null,
            "_view_module": "@jupyter-widgets/base",
            "_view_module_version": "1.2.0",
            "_view_name": "LayoutView",
            "align_content": null,
            "align_items": null,
            "align_self": null,
            "border": null,
            "bottom": null,
            "display": null,
            "flex": null,
            "flex_flow": null,
            "grid_area": null,
            "grid_auto_columns": null,
            "grid_auto_flow": null,
            "grid_auto_rows": null,
            "grid_column": null,
            "grid_gap": null,
            "grid_row": null,
            "grid_template_areas": null,
            "grid_template_columns": null,
            "grid_template_rows": null,
            "height": null,
            "justify_content": null,
            "justify_items": null,
            "left": null,
            "margin": null,
            "max_height": null,
            "max_width": null,
            "min_height": null,
            "min_width": null,
            "object_fit": null,
            "object_position": null,
            "order": null,
            "overflow": null,
            "overflow_x": null,
            "overflow_y": null,
            "padding": null,
            "right": null,
            "top": null,
            "visibility": null,
            "width": null
          }
        },
        "3b281a62f50b4c339bb76609883bcf6a": {
          "model_module": "@jupyter-widgets/base",
          "model_name": "LayoutModel",
          "model_module_version": "1.2.0",
          "state": {
            "_model_module": "@jupyter-widgets/base",
            "_model_module_version": "1.2.0",
            "_model_name": "LayoutModel",
            "_view_count": null,
            "_view_module": "@jupyter-widgets/base",
            "_view_module_version": "1.2.0",
            "_view_name": "LayoutView",
            "align_content": null,
            "align_items": null,
            "align_self": null,
            "border": null,
            "bottom": null,
            "display": null,
            "flex": null,
            "flex_flow": null,
            "grid_area": null,
            "grid_auto_columns": null,
            "grid_auto_flow": null,
            "grid_auto_rows": null,
            "grid_column": null,
            "grid_gap": null,
            "grid_row": null,
            "grid_template_areas": null,
            "grid_template_columns": null,
            "grid_template_rows": null,
            "height": null,
            "justify_content": null,
            "justify_items": null,
            "left": null,
            "margin": null,
            "max_height": null,
            "max_width": null,
            "min_height": null,
            "min_width": null,
            "object_fit": null,
            "object_position": null,
            "order": null,
            "overflow": null,
            "overflow_x": null,
            "overflow_y": null,
            "padding": null,
            "right": null,
            "top": null,
            "visibility": null,
            "width": null
          }
        },
        "ee7f648ba20f4f1fa911629153292537": {
          "model_module": "@jupyter-widgets/controls",
          "model_name": "DescriptionStyleModel",
          "model_module_version": "1.5.0",
          "state": {
            "_model_module": "@jupyter-widgets/controls",
            "_model_module_version": "1.5.0",
            "_model_name": "DescriptionStyleModel",
            "_view_count": null,
            "_view_module": "@jupyter-widgets/base",
            "_view_module_version": "1.2.0",
            "_view_name": "StyleView",
            "description_width": ""
          }
        },
        "a53c67ba9c5948e4b54b62e39c2e76be": {
          "model_module": "@jupyter-widgets/base",
          "model_name": "LayoutModel",
          "model_module_version": "1.2.0",
          "state": {
            "_model_module": "@jupyter-widgets/base",
            "_model_module_version": "1.2.0",
            "_model_name": "LayoutModel",
            "_view_count": null,
            "_view_module": "@jupyter-widgets/base",
            "_view_module_version": "1.2.0",
            "_view_name": "LayoutView",
            "align_content": null,
            "align_items": null,
            "align_self": null,
            "border": null,
            "bottom": null,
            "display": null,
            "flex": null,
            "flex_flow": null,
            "grid_area": null,
            "grid_auto_columns": null,
            "grid_auto_flow": null,
            "grid_auto_rows": null,
            "grid_column": null,
            "grid_gap": null,
            "grid_row": null,
            "grid_template_areas": null,
            "grid_template_columns": null,
            "grid_template_rows": null,
            "height": null,
            "justify_content": null,
            "justify_items": null,
            "left": null,
            "margin": null,
            "max_height": null,
            "max_width": null,
            "min_height": null,
            "min_width": null,
            "object_fit": null,
            "object_position": null,
            "order": null,
            "overflow": null,
            "overflow_x": null,
            "overflow_y": null,
            "padding": null,
            "right": null,
            "top": null,
            "visibility": null,
            "width": null
          }
        },
        "e6961aa0e25e48f7b10f308e75082349": {
          "model_module": "@jupyter-widgets/controls",
          "model_name": "ProgressStyleModel",
          "model_module_version": "1.5.0",
          "state": {
            "_model_module": "@jupyter-widgets/controls",
            "_model_module_version": "1.5.0",
            "_model_name": "ProgressStyleModel",
            "_view_count": null,
            "_view_module": "@jupyter-widgets/base",
            "_view_module_version": "1.2.0",
            "_view_name": "StyleView",
            "bar_color": null,
            "description_width": ""
          }
        },
        "5ed36cb51b8d4b54bab2dffd1d69c349": {
          "model_module": "@jupyter-widgets/base",
          "model_name": "LayoutModel",
          "model_module_version": "1.2.0",
          "state": {
            "_model_module": "@jupyter-widgets/base",
            "_model_module_version": "1.2.0",
            "_model_name": "LayoutModel",
            "_view_count": null,
            "_view_module": "@jupyter-widgets/base",
            "_view_module_version": "1.2.0",
            "_view_name": "LayoutView",
            "align_content": null,
            "align_items": null,
            "align_self": null,
            "border": null,
            "bottom": null,
            "display": null,
            "flex": null,
            "flex_flow": null,
            "grid_area": null,
            "grid_auto_columns": null,
            "grid_auto_flow": null,
            "grid_auto_rows": null,
            "grid_column": null,
            "grid_gap": null,
            "grid_row": null,
            "grid_template_areas": null,
            "grid_template_columns": null,
            "grid_template_rows": null,
            "height": null,
            "justify_content": null,
            "justify_items": null,
            "left": null,
            "margin": null,
            "max_height": null,
            "max_width": null,
            "min_height": null,
            "min_width": null,
            "object_fit": null,
            "object_position": null,
            "order": null,
            "overflow": null,
            "overflow_x": null,
            "overflow_y": null,
            "padding": null,
            "right": null,
            "top": null,
            "visibility": null,
            "width": null
          }
        },
        "0300d4ad0e624faba2d671720b11c48d": {
          "model_module": "@jupyter-widgets/controls",
          "model_name": "DescriptionStyleModel",
          "model_module_version": "1.5.0",
          "state": {
            "_model_module": "@jupyter-widgets/controls",
            "_model_module_version": "1.5.0",
            "_model_name": "DescriptionStyleModel",
            "_view_count": null,
            "_view_module": "@jupyter-widgets/base",
            "_view_module_version": "1.2.0",
            "_view_name": "StyleView",
            "description_width": ""
          }
        }
      }
    }
  },
  "cells": [
    {
      "cell_type": "code",
      "execution_count": 1,
      "metadata": {
        "id": "n1OJvGdV4HxG"
      },
      "outputs": [],
      "source": [
        "import torch\n",
        "import torch.nn as nn\n",
        "import torchvision\n",
        "import torchvision.transforms as transforms\n",
        "from torchvision.utils import save_image\n",
        "import numpy as np\n",
        "import matplotlib.pyplot as plt\n",
        "import datetime\n",
        "import os"
      ]
    },
    {
      "cell_type": "code",
      "source": [
        "transform = transforms.Compose([\n",
        "    transforms.ToTensor(),\n",
        "    transforms.Normalize(mean=(0.5), std=(0.5))])"
      ],
      "metadata": {
        "id": "XCdNHhuv4vQ2"
      },
      "execution_count": 2,
      "outputs": []
    },
    {
      "cell_type": "code",
      "source": [
        "train_dataset = torchvision.datasets.MNIST(\n",
        "    root='.', train=True, transform=transform, download=True)"
      ],
      "metadata": {
        "colab": {
          "base_uri": "https://localhost:8080/",
          "height": 423,
          "referenced_widgets": [
            "164ef454ed6e420e9a0a587818601603",
            "f49d2df7c07148ee9a9d24868b421fa8",
            "7bb4f346a68e4ed7b5a0fc9ea96b8852",
            "df00b986e49d415da0a5a355d216132c",
            "a7c2f11397a848f6a745f591b4d6164a",
            "274b8246f58b4a7688327e2da1d93077",
            "2e174e63e1a544b39a021c8a7a863137",
            "acf7579fa09d423a9d69b994b970eda2",
            "7cac52feaa7041a594488bf04ded5f2c",
            "4c41ffdf3fe4412f806a4385ff46c457",
            "e8c2b64d79b74402a5ca3cb4e17da78e",
            "6e1036b0db1843eab009ac7db55a5dbd",
            "e142ed763fb7428c862d128baddd9c1c",
            "e8d92d42e6ff429681f1645136c9f81b",
            "a1a270e878e14e07be57f074a3565fd8",
            "de047e49c1ab4540b7bd7534bee30427",
            "b6524e73bc6c4e9d81b82fab3905e35e",
            "e215d5ad69f34ce3969ddb173940464f",
            "7f06b90c56a0474e9debcf0294e984dc",
            "d2ec7d39e53a45118f97b3d9670d9bdb",
            "1c80cc44d9b44aceb57729d786db6568",
            "e38c94230c924070a4c8b90d2fd81897",
            "067525d3d16745d1b9b160ae6e7585d5",
            "f1630588ca9e41159de83a93643bdfbe",
            "fce877e31cbd4f969c68234b5defa878",
            "18663a6f429f4340bd98a29898f5b869",
            "0f4d6d4cfdd04ea99eb1081396d25bef",
            "28cc00a63bc241c8a29854b53397136c",
            "ed1c7882373a4256a23a5528a3b5828c",
            "81d6b4c705074290970a03d7d8fa1af3",
            "d471942846324cb5b410c94af7fbff84",
            "3fc4d97656224d3bafd3a18d5d0ed346",
            "b9690cc5e2414e5095899e21d2679d46",
            "d5d431b9a3ae466a9ea3cce1335949b3",
            "fad20dfbabed4968a6a7ff3955763657",
            "5df7fc40d2254601baf1c0601e3f5ba2",
            "87c37a1748db45d6bac03e9a2ffbc65e",
            "6916a69eb7df4e32afe2742296c9c5b9",
            "3b281a62f50b4c339bb76609883bcf6a",
            "ee7f648ba20f4f1fa911629153292537",
            "a53c67ba9c5948e4b54b62e39c2e76be",
            "e6961aa0e25e48f7b10f308e75082349",
            "5ed36cb51b8d4b54bab2dffd1d69c349",
            "0300d4ad0e624faba2d671720b11c48d"
          ]
        },
        "id": "-p-ySm3G4v92",
        "outputId": "bfe80483-adef-4365-a617-99639c5704f8"
      },
      "execution_count": 3,
      "outputs": [
        {
          "output_type": "stream",
          "name": "stdout",
          "text": [
            "Downloading http://yann.lecun.com/exdb/mnist/train-images-idx3-ubyte.gz\n",
            "Downloading http://yann.lecun.com/exdb/mnist/train-images-idx3-ubyte.gz to ./MNIST/raw/train-images-idx3-ubyte.gz\n"
          ]
        },
        {
          "output_type": "display_data",
          "data": {
            "text/plain": [
              "  0%|          | 0/9912422 [00:00<?, ?it/s]"
            ],
            "application/vnd.jupyter.widget-view+json": {
              "version_major": 2,
              "version_minor": 0,
              "model_id": "164ef454ed6e420e9a0a587818601603"
            }
          },
          "metadata": {}
        },
        {
          "output_type": "stream",
          "name": "stdout",
          "text": [
            "Extracting ./MNIST/raw/train-images-idx3-ubyte.gz to ./MNIST/raw\n",
            "\n",
            "Downloading http://yann.lecun.com/exdb/mnist/train-labels-idx1-ubyte.gz\n",
            "Downloading http://yann.lecun.com/exdb/mnist/train-labels-idx1-ubyte.gz to ./MNIST/raw/train-labels-idx1-ubyte.gz\n"
          ]
        },
        {
          "output_type": "display_data",
          "data": {
            "text/plain": [
              "  0%|          | 0/28881 [00:00<?, ?it/s]"
            ],
            "application/vnd.jupyter.widget-view+json": {
              "version_major": 2,
              "version_minor": 0,
              "model_id": "6e1036b0db1843eab009ac7db55a5dbd"
            }
          },
          "metadata": {}
        },
        {
          "output_type": "stream",
          "name": "stdout",
          "text": [
            "Extracting ./MNIST/raw/train-labels-idx1-ubyte.gz to ./MNIST/raw\n",
            "\n",
            "Downloading http://yann.lecun.com/exdb/mnist/t10k-images-idx3-ubyte.gz\n",
            "Downloading http://yann.lecun.com/exdb/mnist/t10k-images-idx3-ubyte.gz to ./MNIST/raw/t10k-images-idx3-ubyte.gz\n"
          ]
        },
        {
          "output_type": "display_data",
          "data": {
            "text/plain": [
              "  0%|          | 0/1648877 [00:00<?, ?it/s]"
            ],
            "application/vnd.jupyter.widget-view+json": {
              "version_major": 2,
              "version_minor": 0,
              "model_id": "067525d3d16745d1b9b160ae6e7585d5"
            }
          },
          "metadata": {}
        },
        {
          "output_type": "stream",
          "name": "stdout",
          "text": [
            "Extracting ./MNIST/raw/t10k-images-idx3-ubyte.gz to ./MNIST/raw\n",
            "\n",
            "Downloading http://yann.lecun.com/exdb/mnist/t10k-labels-idx1-ubyte.gz\n",
            "Downloading http://yann.lecun.com/exdb/mnist/t10k-labels-idx1-ubyte.gz to ./MNIST/raw/t10k-labels-idx1-ubyte.gz\n"
          ]
        },
        {
          "output_type": "display_data",
          "data": {
            "text/plain": [
              "  0%|          | 0/4542 [00:00<?, ?it/s]"
            ],
            "application/vnd.jupyter.widget-view+json": {
              "version_major": 2,
              "version_minor": 0,
              "model_id": "d5d431b9a3ae466a9ea3cce1335949b3"
            }
          },
          "metadata": {}
        },
        {
          "output_type": "stream",
          "name": "stdout",
          "text": [
            "Extracting ./MNIST/raw/t10k-labels-idx1-ubyte.gz to ./MNIST/raw\n",
            "\n"
          ]
        }
      ]
    },
    {
      "cell_type": "code",
      "source": [
        "len(train_dataset)"
      ],
      "metadata": {
        "colab": {
          "base_uri": "https://localhost:8080/"
        },
        "id": "ukS1XZx15YSi",
        "outputId": "2922249c-a668-4eda-b89f-6bd6da58ee3c"
      },
      "execution_count": 4,
      "outputs": [
        {
          "output_type": "execute_result",
          "data": {
            "text/plain": [
              "60000"
            ]
          },
          "metadata": {},
          "execution_count": 4
        }
      ]
    },
    {
      "cell_type": "code",
      "source": [
        "batch_size = 128\n",
        "data_loader = torch.utils.data.DataLoader(dataset=train_dataset,\n",
        "                                          batch_size=batch_size,\n",
        "                                          shuffle=True)"
      ],
      "metadata": {
        "id": "gnajf7NG5r2k"
      },
      "execution_count": 5,
      "outputs": []
    },
    {
      "cell_type": "code",
      "source": [
        "# Discriminator\n",
        "D = nn.Sequential(\n",
        "    nn.Linear(784, 512),\n",
        "    nn.LeakyReLU(0.2),\n",
        "    nn.Linear(512, 256),\n",
        "    nn.LeakyReLU(0.2),\n",
        "    nn.Linear(256, 1),\n",
        "    # nn.Sigmoid()\n",
        ")"
      ],
      "metadata": {
        "id": "_ZMXLDFW53lC"
      },
      "execution_count": 6,
      "outputs": []
    },
    {
      "cell_type": "code",
      "source": [
        "# Generator\n",
        "latent_dim = 100\n",
        "G = nn.Sequential(\n",
        "    nn.Linear(latent_dim, 256),\n",
        "    nn.LeakyReLU(0.2),\n",
        "    nn.BatchNorm1d(256, momentum=0.7),\n",
        "    nn.Linear(256, 512),\n",
        "    nn.LeakyReLU(0.2),\n",
        "    nn.BatchNorm1d(512, momentum=0.7),\n",
        "    nn.Linear(512, 1024),\n",
        "    nn.LeakyReLU(0.2),\n",
        "    nn.BatchNorm1d(1024, momentum=0.7),\n",
        "    nn.Linear(1024, 784),\n",
        "    nn.Tanh())"
      ],
      "metadata": {
        "id": "JZS9Qo6Z6JKT"
      },
      "execution_count": 7,
      "outputs": []
    },
    {
      "cell_type": "code",
      "source": [
        "# Set device\n",
        "device = torch.device('cuda' if torch.cuda.is_available() else 'cpu')\n",
        "D = D.to(device)\n",
        "G = G.to(device)"
      ],
      "metadata": {
        "id": "wspk1oVg6hFv"
      },
      "execution_count": 8,
      "outputs": []
    },
    {
      "cell_type": "code",
      "source": [
        "# Loss and optimizer\n",
        "criterion = nn.BCEWithLogitsLoss()\n",
        "d_optimizer = torch.optim.Adam(D.parameters(), lr=0.0002, betas=(0.5, 0.999))\n",
        "g_optimizer = torch.optim.Adam(G.parameters(), lr=0.0002, betas=(0.5, 0.999))"
      ],
      "metadata": {
        "id": "0ja4Hsr16sDF"
      },
      "execution_count": 9,
      "outputs": []
    },
    {
      "cell_type": "code",
      "source": [
        "# scale image back to (0, 1)\n",
        "def scale_image(img):\n",
        "    out = (img + 1) / 2\n",
        "    return out"
      ],
      "metadata": {
        "id": "pChzhTgv62yC"
      },
      "execution_count": 10,
      "outputs": []
    },
    {
      "cell_type": "code",
      "source": [
        "# Create a folder to save generated images\n",
        "if not os.path.exists('gan_images'):\n",
        "    os.makedirs('gan_images')"
      ],
      "metadata": {
        "id": "mAb_jwz06__H"
      },
      "execution_count": 11,
      "outputs": []
    },
    {
      "cell_type": "code",
      "source": [
        "# Training\n",
        "# labels to use\n",
        "ones_ = torch.ones(batch_size, 1).to(device)\n",
        "zeros_ = torch.zeros(batch_size, 1).to(device)\n",
        "\n",
        "# save losses\n",
        "d_losses = []\n",
        "g_losses = []\n",
        "\n",
        "for epoch in range(200):\n",
        "    for inputs, _ in data_loader:\n",
        "        # reshape and move to device\n",
        "        n = inputs.size(0)\n",
        "        inputs = inputs.reshape(n, 784).to(device)\n",
        "\n",
        "        # set ones and zeros to correct size\n",
        "        ones = ones_[:n]\n",
        "        zeros = zeros_[:n]\n",
        "\n",
        "        # Train discriminator\n",
        "        # real images\n",
        "        real_outputs = D(inputs)\n",
        "        d_loss_real = criterion(real_outputs, ones)\n",
        "\n",
        "        # fake images\n",
        "        noies = torch.randn(n, latent_dim).to(device)\n",
        "        fake_images = G(noies)\n",
        "        fake_outputs = D(fake_images)\n",
        "        d_loss_fake = criterion(fake_outputs, zeros)\n",
        "\n",
        "        # gradient descent\n",
        "        d_loss = 0.5 * (d_loss_real + d_loss_fake)\n",
        "        d_optimizer.zero_grad()\n",
        "        g_optimizer.zero_grad()\n",
        "        d_loss.backward()\n",
        "        d_optimizer.step()\n",
        "\n",
        "        # Train generator\n",
        "        # do it twice \n",
        "        for _ in range(2):\n",
        "            # fake images\n",
        "            noises = torch.randn(n, latent_dim).to(device)\n",
        "            fake_images = G(noises)\n",
        "            fake_outputs = D(fake_images)\n",
        "            g_loss = criterion(fake_outputs, ones)\n",
        "\n",
        "            # gradient descent\n",
        "            d_optimizer.zero_grad()\n",
        "            g_optimizer.zero_grad()\n",
        "            g_loss.backward()\n",
        "            g_optimizer.step()\n",
        "\n",
        "        # save losses\n",
        "        d_losses.append(d_loss.item())\n",
        "        g_losses.append(g_loss.item())\n",
        "\n",
        "    # print losses\n",
        "    print(f'Epoch {epoch}, d_loss: {d_loss.item()}, g_loss: {g_loss.item()}')\n",
        "\n",
        "    # save images\n",
        "    fake_images = fake_images.reshape(-1, 1, 28, 28)\n",
        "    save_image(scale_image(fake_images), f'gan_images/{epoch+1}.png')"
      ],
      "metadata": {
        "colab": {
          "base_uri": "https://localhost:8080/"
        },
        "id": "43FLwQo47IRr",
        "outputId": "a8e5ab42-e936-49e8-e18c-96b314cf3021"
      },
      "execution_count": 12,
      "outputs": [
        {
          "output_type": "stream",
          "name": "stdout",
          "text": [
            "Epoch 0, d_loss: 0.6867415904998779, g_loss: 0.6778988838195801\n",
            "Epoch 1, d_loss: 0.6751721501350403, g_loss: 0.6741887927055359\n",
            "Epoch 2, d_loss: 0.6819103360176086, g_loss: 0.7613800764083862\n",
            "Epoch 3, d_loss: 0.6965238451957703, g_loss: 0.7226280570030212\n",
            "Epoch 4, d_loss: 0.6884533166885376, g_loss: 0.7167017459869385\n",
            "Epoch 5, d_loss: 0.691910982131958, g_loss: 0.7165910601615906\n",
            "Epoch 6, d_loss: 0.6845239400863647, g_loss: 0.6773473620414734\n",
            "Epoch 7, d_loss: 0.6880218982696533, g_loss: 0.685481071472168\n",
            "Epoch 8, d_loss: 0.6694850921630859, g_loss: 0.7160772085189819\n",
            "Epoch 9, d_loss: 0.6816530227661133, g_loss: 0.7231994867324829\n",
            "Epoch 10, d_loss: 0.6997333765029907, g_loss: 0.7190580368041992\n",
            "Epoch 11, d_loss: 0.6947138905525208, g_loss: 0.7147603034973145\n",
            "Epoch 12, d_loss: 0.6837987303733826, g_loss: 0.7163122892379761\n",
            "Epoch 13, d_loss: 0.6974271535873413, g_loss: 0.7010830640792847\n",
            "Epoch 14, d_loss: 0.6885620951652527, g_loss: 0.725689172744751\n",
            "Epoch 15, d_loss: 0.6842737197875977, g_loss: 0.7156955003738403\n",
            "Epoch 16, d_loss: 0.7001103162765503, g_loss: 0.7082341909408569\n",
            "Epoch 17, d_loss: 0.6900379657745361, g_loss: 0.7222902774810791\n",
            "Epoch 18, d_loss: 0.6896428465843201, g_loss: 0.713655948638916\n",
            "Epoch 19, d_loss: 0.689085066318512, g_loss: 0.7519965171813965\n",
            "Epoch 20, d_loss: 0.6867145299911499, g_loss: 0.7633773684501648\n",
            "Epoch 21, d_loss: 0.6884748935699463, g_loss: 0.700592041015625\n",
            "Epoch 22, d_loss: 0.6831108331680298, g_loss: 0.7152884006500244\n",
            "Epoch 23, d_loss: 0.6814587116241455, g_loss: 0.7045482397079468\n",
            "Epoch 24, d_loss: 0.6912842392921448, g_loss: 0.6786272525787354\n",
            "Epoch 25, d_loss: 0.6795907020568848, g_loss: 0.7142235636711121\n",
            "Epoch 26, d_loss: 0.6920993328094482, g_loss: 0.7116669416427612\n",
            "Epoch 27, d_loss: 0.6805474162101746, g_loss: 0.744076669216156\n",
            "Epoch 28, d_loss: 0.6748975515365601, g_loss: 0.7018027305603027\n",
            "Epoch 29, d_loss: 0.6769728660583496, g_loss: 0.7310263514518738\n",
            "Epoch 30, d_loss: 0.6819034218788147, g_loss: 0.7155601382255554\n",
            "Epoch 31, d_loss: 0.6926648020744324, g_loss: 0.7091604471206665\n",
            "Epoch 32, d_loss: 0.6840879321098328, g_loss: 0.7416743040084839\n",
            "Epoch 33, d_loss: 0.6931865215301514, g_loss: 0.7418510317802429\n",
            "Epoch 34, d_loss: 0.6814242601394653, g_loss: 0.7087215781211853\n",
            "Epoch 35, d_loss: 0.6758882999420166, g_loss: 0.7456173300743103\n",
            "Epoch 36, d_loss: 0.6885389089584351, g_loss: 0.7355548739433289\n",
            "Epoch 37, d_loss: 0.676844596862793, g_loss: 0.6777660846710205\n",
            "Epoch 38, d_loss: 0.6829897165298462, g_loss: 0.6974457502365112\n",
            "Epoch 39, d_loss: 0.674210250377655, g_loss: 0.7516244649887085\n",
            "Epoch 40, d_loss: 0.6791651844978333, g_loss: 0.6855012774467468\n",
            "Epoch 41, d_loss: 0.6827735900878906, g_loss: 0.7560251951217651\n",
            "Epoch 42, d_loss: 0.6858516931533813, g_loss: 0.7147992849349976\n",
            "Epoch 43, d_loss: 0.6979987621307373, g_loss: 0.7375202178955078\n",
            "Epoch 44, d_loss: 0.6814292669296265, g_loss: 0.7284716963768005\n",
            "Epoch 45, d_loss: 0.673618733882904, g_loss: 0.7321227788925171\n",
            "Epoch 46, d_loss: 0.6786014437675476, g_loss: 0.7300170660018921\n",
            "Epoch 47, d_loss: 0.6738837957382202, g_loss: 0.7071909308433533\n",
            "Epoch 48, d_loss: 0.6925077438354492, g_loss: 0.7222582697868347\n",
            "Epoch 49, d_loss: 0.6782886981964111, g_loss: 0.7131854891777039\n",
            "Epoch 50, d_loss: 0.674902081489563, g_loss: 0.7285749316215515\n",
            "Epoch 51, d_loss: 0.6740812063217163, g_loss: 0.7234334945678711\n",
            "Epoch 52, d_loss: 0.6754506826400757, g_loss: 0.7587763071060181\n",
            "Epoch 53, d_loss: 0.6754974126815796, g_loss: 0.7324423789978027\n",
            "Epoch 54, d_loss: 0.6513612270355225, g_loss: 0.7897849082946777\n",
            "Epoch 55, d_loss: 0.6612709760665894, g_loss: 0.706115186214447\n",
            "Epoch 56, d_loss: 0.657559871673584, g_loss: 0.7364262938499451\n",
            "Epoch 57, d_loss: 0.6904815435409546, g_loss: 0.8319180011749268\n",
            "Epoch 58, d_loss: 0.6720579862594604, g_loss: 0.8177112340927124\n",
            "Epoch 59, d_loss: 0.6657226085662842, g_loss: 0.6897735595703125\n",
            "Epoch 60, d_loss: 0.6668446660041809, g_loss: 0.7251380681991577\n",
            "Epoch 61, d_loss: 0.6468303799629211, g_loss: 0.8050915598869324\n",
            "Epoch 62, d_loss: 0.6571909785270691, g_loss: 0.793435275554657\n",
            "Epoch 63, d_loss: 0.6749939918518066, g_loss: 0.743384063243866\n",
            "Epoch 64, d_loss: 0.6672219634056091, g_loss: 0.6296281218528748\n",
            "Epoch 65, d_loss: 0.6527749300003052, g_loss: 0.8512129783630371\n",
            "Epoch 66, d_loss: 0.6619954705238342, g_loss: 0.7332300543785095\n",
            "Epoch 67, d_loss: 0.6733224987983704, g_loss: 0.8064655661582947\n",
            "Epoch 68, d_loss: 0.6785231828689575, g_loss: 0.6683162450790405\n",
            "Epoch 69, d_loss: 0.6492866277694702, g_loss: 0.8597842454910278\n",
            "Epoch 70, d_loss: 0.6891719102859497, g_loss: 0.717482328414917\n",
            "Epoch 71, d_loss: 0.6662300229072571, g_loss: 0.8113412857055664\n",
            "Epoch 72, d_loss: 0.6756473779678345, g_loss: 0.6981446146965027\n",
            "Epoch 73, d_loss: 0.6875796318054199, g_loss: 0.856503963470459\n",
            "Epoch 74, d_loss: 0.6549047231674194, g_loss: 0.6826218962669373\n",
            "Epoch 75, d_loss: 0.6544344425201416, g_loss: 0.8647932410240173\n",
            "Epoch 76, d_loss: 0.6429038047790527, g_loss: 0.7184159159660339\n",
            "Epoch 77, d_loss: 0.6540912985801697, g_loss: 0.8007545471191406\n",
            "Epoch 78, d_loss: 0.695548415184021, g_loss: 0.9213290214538574\n",
            "Epoch 79, d_loss: 0.6486640572547913, g_loss: 0.6697043180465698\n",
            "Epoch 80, d_loss: 0.648228645324707, g_loss: 0.8594989776611328\n",
            "Epoch 81, d_loss: 0.6754423379898071, g_loss: 0.6956838369369507\n",
            "Epoch 82, d_loss: 0.6816550493240356, g_loss: 0.7357066869735718\n",
            "Epoch 83, d_loss: 0.6480950117111206, g_loss: 0.7460132837295532\n",
            "Epoch 84, d_loss: 0.6298290491104126, g_loss: 0.8625794649124146\n",
            "Epoch 85, d_loss: 0.6736659407615662, g_loss: 0.7996737957000732\n",
            "Epoch 86, d_loss: 0.6157697439193726, g_loss: 0.8493682742118835\n",
            "Epoch 87, d_loss: 0.6679904460906982, g_loss: 0.757072925567627\n",
            "Epoch 88, d_loss: 0.6322281360626221, g_loss: 0.9705804586410522\n",
            "Epoch 89, d_loss: 0.6407515406608582, g_loss: 0.9424363970756531\n",
            "Epoch 90, d_loss: 0.6372247934341431, g_loss: 0.6831082105636597\n",
            "Epoch 91, d_loss: 0.6088088154792786, g_loss: 0.9027701616287231\n",
            "Epoch 92, d_loss: 0.6433062553405762, g_loss: 0.7754780650138855\n",
            "Epoch 93, d_loss: 0.6410322189331055, g_loss: 0.7676793336868286\n",
            "Epoch 94, d_loss: 0.622048020362854, g_loss: 0.8780487775802612\n",
            "Epoch 95, d_loss: 0.654461145401001, g_loss: 0.9249228239059448\n",
            "Epoch 96, d_loss: 0.6364738345146179, g_loss: 0.9168848991394043\n",
            "Epoch 97, d_loss: 0.660266637802124, g_loss: 0.6727738380432129\n",
            "Epoch 98, d_loss: 0.6379762887954712, g_loss: 0.7063043117523193\n",
            "Epoch 99, d_loss: 0.6315720081329346, g_loss: 0.8263970613479614\n",
            "Epoch 100, d_loss: 0.6035476922988892, g_loss: 0.855517566204071\n",
            "Epoch 101, d_loss: 0.6366444826126099, g_loss: 0.7231022715568542\n",
            "Epoch 102, d_loss: 0.6637711524963379, g_loss: 0.5974438786506653\n",
            "Epoch 103, d_loss: 0.6213882565498352, g_loss: 0.8914893865585327\n",
            "Epoch 104, d_loss: 0.6331988573074341, g_loss: 0.8099009990692139\n",
            "Epoch 105, d_loss: 0.6618233919143677, g_loss: 0.8571268320083618\n",
            "Epoch 106, d_loss: 0.6397382616996765, g_loss: 0.8597050905227661\n",
            "Epoch 107, d_loss: 0.6148843765258789, g_loss: 0.8216623067855835\n",
            "Epoch 108, d_loss: 0.643256664276123, g_loss: 1.0570274591445923\n",
            "Epoch 109, d_loss: 0.6454390287399292, g_loss: 0.8795387148857117\n",
            "Epoch 110, d_loss: 0.637420654296875, g_loss: 0.8266372680664062\n",
            "Epoch 111, d_loss: 0.6387268304824829, g_loss: 0.9151119589805603\n",
            "Epoch 112, d_loss: 0.644821286201477, g_loss: 0.8406592607498169\n",
            "Epoch 113, d_loss: 0.6614729166030884, g_loss: 0.7065020799636841\n",
            "Epoch 114, d_loss: 0.601477861404419, g_loss: 0.8849150538444519\n",
            "Epoch 115, d_loss: 0.6641319990158081, g_loss: 1.0426321029663086\n",
            "Epoch 116, d_loss: 0.6448622941970825, g_loss: 0.9738613367080688\n",
            "Epoch 117, d_loss: 0.6408461332321167, g_loss: 0.8909178972244263\n",
            "Epoch 118, d_loss: 0.6102608442306519, g_loss: 0.8969284892082214\n",
            "Epoch 119, d_loss: 0.6413490772247314, g_loss: 0.9714999198913574\n",
            "Epoch 120, d_loss: 0.6536493897438049, g_loss: 0.6298473477363586\n",
            "Epoch 121, d_loss: 0.6359025239944458, g_loss: 0.7364956140518188\n",
            "Epoch 122, d_loss: 0.6380114555358887, g_loss: 0.8314932584762573\n",
            "Epoch 123, d_loss: 0.6074631214141846, g_loss: 0.8795458674430847\n",
            "Epoch 124, d_loss: 0.6156081557273865, g_loss: 0.8193966746330261\n",
            "Epoch 125, d_loss: 0.5761767029762268, g_loss: 1.0000414848327637\n",
            "Epoch 126, d_loss: 0.5912973880767822, g_loss: 0.7569432258605957\n",
            "Epoch 127, d_loss: 0.6134799718856812, g_loss: 0.9773103594779968\n",
            "Epoch 128, d_loss: 0.597722053527832, g_loss: 0.9986205101013184\n",
            "Epoch 129, d_loss: 0.6640851497650146, g_loss: 0.9759849309921265\n",
            "Epoch 130, d_loss: 0.5901616215705872, g_loss: 1.076656699180603\n",
            "Epoch 131, d_loss: 0.6229256987571716, g_loss: 0.805569052696228\n",
            "Epoch 132, d_loss: 0.6176888942718506, g_loss: 0.9793508052825928\n",
            "Epoch 133, d_loss: 0.588683009147644, g_loss: 0.7147244811058044\n",
            "Epoch 134, d_loss: 0.6212996244430542, g_loss: 0.7955825328826904\n",
            "Epoch 135, d_loss: 0.5877030491828918, g_loss: 0.871954619884491\n",
            "Epoch 136, d_loss: 0.6260141134262085, g_loss: 0.9351581335067749\n",
            "Epoch 137, d_loss: 0.6155615448951721, g_loss: 0.7715436816215515\n",
            "Epoch 138, d_loss: 0.6197671890258789, g_loss: 1.1724419593811035\n",
            "Epoch 139, d_loss: 0.5642883777618408, g_loss: 0.7785162925720215\n",
            "Epoch 140, d_loss: 0.5948700904846191, g_loss: 1.024977207183838\n",
            "Epoch 141, d_loss: 0.6019176840782166, g_loss: 0.8056582808494568\n",
            "Epoch 142, d_loss: 0.6052314043045044, g_loss: 1.1135196685791016\n",
            "Epoch 143, d_loss: 0.6200768947601318, g_loss: 0.6884567141532898\n",
            "Epoch 144, d_loss: 0.6348995566368103, g_loss: 1.0240896940231323\n",
            "Epoch 145, d_loss: 0.5814793109893799, g_loss: 1.0102670192718506\n",
            "Epoch 146, d_loss: 0.6176762580871582, g_loss: 0.687046229839325\n",
            "Epoch 147, d_loss: 0.5590535402297974, g_loss: 0.9912049174308777\n",
            "Epoch 148, d_loss: 0.573738694190979, g_loss: 0.7411304712295532\n",
            "Epoch 149, d_loss: 0.6295294165611267, g_loss: 1.080810546875\n",
            "Epoch 150, d_loss: 0.6162233948707581, g_loss: 0.7895523309707642\n",
            "Epoch 151, d_loss: 0.6088501214981079, g_loss: 1.02375328540802\n",
            "Epoch 152, d_loss: 0.5573755502700806, g_loss: 0.8397074937820435\n",
            "Epoch 153, d_loss: 0.588096022605896, g_loss: 0.8432261347770691\n",
            "Epoch 154, d_loss: 0.6460713148117065, g_loss: 1.4449352025985718\n",
            "Epoch 155, d_loss: 0.5644485950469971, g_loss: 0.8375870585441589\n",
            "Epoch 156, d_loss: 0.5923097729682922, g_loss: 0.8363935351371765\n",
            "Epoch 157, d_loss: 0.5465643405914307, g_loss: 1.044702172279358\n",
            "Epoch 158, d_loss: 0.6097955703735352, g_loss: 0.9679921865463257\n",
            "Epoch 159, d_loss: 0.5999366641044617, g_loss: 0.810326337814331\n",
            "Epoch 160, d_loss: 0.5604146122932434, g_loss: 0.859599769115448\n",
            "Epoch 161, d_loss: 0.5687509775161743, g_loss: 0.7016321420669556\n",
            "Epoch 162, d_loss: 0.6411293745040894, g_loss: 0.9291541576385498\n",
            "Epoch 163, d_loss: 0.5901806354522705, g_loss: 0.9197736978530884\n",
            "Epoch 164, d_loss: 0.5977499485015869, g_loss: 1.2632744312286377\n",
            "Epoch 165, d_loss: 0.5838370323181152, g_loss: 0.9166349172592163\n",
            "Epoch 166, d_loss: 0.5806790590286255, g_loss: 1.0510004758834839\n",
            "Epoch 167, d_loss: 0.5703467726707458, g_loss: 0.8818297386169434\n",
            "Epoch 168, d_loss: 0.6302353739738464, g_loss: 0.8075809478759766\n",
            "Epoch 169, d_loss: 0.5921842455863953, g_loss: 1.194016695022583\n",
            "Epoch 170, d_loss: 0.5683097839355469, g_loss: 1.0870047807693481\n",
            "Epoch 171, d_loss: 0.586431086063385, g_loss: 0.9709887504577637\n",
            "Epoch 172, d_loss: 0.586984395980835, g_loss: 0.7253631353378296\n",
            "Epoch 173, d_loss: 0.5749210119247437, g_loss: 0.9161426424980164\n",
            "Epoch 174, d_loss: 0.5407557487487793, g_loss: 0.90288245677948\n",
            "Epoch 175, d_loss: 0.5724454522132874, g_loss: 0.78184574842453\n",
            "Epoch 176, d_loss: 0.5834280252456665, g_loss: 1.1143430471420288\n",
            "Epoch 177, d_loss: 0.6323651671409607, g_loss: 1.2771748304367065\n",
            "Epoch 178, d_loss: 0.6198610663414001, g_loss: 0.870415449142456\n",
            "Epoch 179, d_loss: 0.5561491250991821, g_loss: 0.8876616358757019\n",
            "Epoch 180, d_loss: 0.5693622827529907, g_loss: 0.8047552108764648\n",
            "Epoch 181, d_loss: 0.5779692530632019, g_loss: 0.8962240219116211\n",
            "Epoch 182, d_loss: 0.5325412750244141, g_loss: 1.0230401754379272\n",
            "Epoch 183, d_loss: 0.5461558699607849, g_loss: 0.987329363822937\n",
            "Epoch 184, d_loss: 0.5584746599197388, g_loss: 0.9482535719871521\n",
            "Epoch 185, d_loss: 0.53564453125, g_loss: 1.2206754684448242\n",
            "Epoch 186, d_loss: 0.59283846616745, g_loss: 1.0632085800170898\n",
            "Epoch 187, d_loss: 0.5652345418930054, g_loss: 0.7060117721557617\n",
            "Epoch 188, d_loss: 0.5861799716949463, g_loss: 1.0765008926391602\n",
            "Epoch 189, d_loss: 0.5806158185005188, g_loss: 1.2231647968292236\n",
            "Epoch 190, d_loss: 0.5378225445747375, g_loss: 1.2530244588851929\n",
            "Epoch 191, d_loss: 0.6010968089103699, g_loss: 1.016120195388794\n",
            "Epoch 192, d_loss: 0.5573139786720276, g_loss: 0.844679594039917\n",
            "Epoch 193, d_loss: 0.5855929851531982, g_loss: 0.8083010911941528\n",
            "Epoch 194, d_loss: 0.5919065475463867, g_loss: 0.8766612410545349\n",
            "Epoch 195, d_loss: 0.6621506214141846, g_loss: 1.3835327625274658\n",
            "Epoch 196, d_loss: 0.566552460193634, g_loss: 0.9177179336547852\n",
            "Epoch 197, d_loss: 0.5860913991928101, g_loss: 0.9744164347648621\n",
            "Epoch 198, d_loss: 0.5768630504608154, g_loss: 0.6580489873886108\n",
            "Epoch 199, d_loss: 0.5700298547744751, g_loss: 0.8480364680290222\n"
          ]
        }
      ]
    },
    {
      "cell_type": "code",
      "source": [
        "plt.plot(g_losses, label='g_losses')\n",
        "plt.plot(d_losses, label='d_losses')\n",
        "plt.legend()"
      ],
      "metadata": {
        "colab": {
          "base_uri": "https://localhost:8080/",
          "height": 282
        },
        "id": "Fy8HO-Zq9aEs",
        "outputId": "2d8926d0-98ee-4ea4-cd78-076884236c01"
      },
      "execution_count": 13,
      "outputs": [
        {
          "output_type": "execute_result",
          "data": {
            "text/plain": [
              "<matplotlib.legend.Legend at 0x7fbf077b1fd0>"
            ]
          },
          "metadata": {},
          "execution_count": 13
        },
        {
          "output_type": "display_data",
          "data": {
            "text/plain": [
              "<Figure size 432x288 with 1 Axes>"
            ],
            "image/png": "[encoded data removed]"
          },
          "metadata": {
            "needs_background": "light"
          }
        }
      ]
    },
    {
      "cell_type": "code",
      "source": [
        "from skimage.io import imread\n",
        "a = imread('gan_images/1.png')\n",
        "plt.imshow(a)"
      ],
      "metadata": {
        "colab": {
          "base_uri": "https://localhost:8080/",
          "height": 286
        },
        "id": "7UXM0Qv5_XT7",
        "outputId": "1bc0f348-d7dd-463a-90df-af0efe5b74ad"
      },
      "execution_count": 14,
      "outputs": [
        {
          "output_type": "execute_result",
          "data": {
            "text/plain": [
              "<matplotlib.image.AxesImage at 0x7fbeec0d2890>"
            ]
          },
          "metadata": {},
          "execution_count": 14
        },
        {
          "output_type": "display_data",
          "data": {
            "text/plain": [
              "<Figure size 432x288 with 1 Axes>"
            ],
            "image/png": "[encoded data removed]"
          },
          "metadata": {
            "needs_background": "light"
          }
        }
      ]
    },
    {
      "cell_type": "code",
      "source": [
        "a = imread('gan_images/50.png')\n",
        "plt.imshow(a)"
      ],
      "metadata": {
        "colab": {
          "base_uri": "https://localhost:8080/",
          "height": 286
        },
        "id": "vB2oD8GaDAOw",
        "outputId": "8507614c-bd60-4b39-a349-81713c06a18c"
      },
      "execution_count": 15,
      "outputs": [
        {
          "output_type": "execute_result",
          "data": {
            "text/plain": [
              "<matplotlib.image.AxesImage at 0x7fbeec04ec10>"
            ]
          },
          "metadata": {},
          "execution_count": 15
        },
        {
          "output_type": "display_data",
          "data": {
            "text/plain": [
              "<Figure size 432x288 with 1 Axes>"
            ],
            "image/png": "[encoded data removed]"
          },
          "metadata": {
            "needs_background": "light"
          }
        }
      ]
    },
    {
      "cell_type": "code",
      "source": [
        "a = imread('gan_images/100.png')\n",
        "plt.imshow(a)"
      ],
      "metadata": {
        "colab": {
          "base_uri": "https://localhost:8080/",
          "height": 286
        },
        "id": "APpG2i8aDCOB",
        "outputId": "2623144c-b0b5-4676-cdfd-02cb1e79eff8"
      },
      "execution_count": 16,
      "outputs": [
        {
          "output_type": "execute_result",
          "data": {
            "text/plain": [
              "<matplotlib.image.AxesImage at 0x7fbeb855fc90>"
            ]
          },
          "metadata": {},
          "execution_count": 16
        },
        {
          "output_type": "display_data",
          "data": {
            "text/plain": [
              "<Figure size 432x288 with 1 Axes>"
            ],
            "image/png": "[encoded data removed]"
          },
          "metadata": {
            "needs_background": "light"
          }
        }
      ]
    },
    {
      "cell_type": "code",
      "source": [
        "a = imread('gan_images/150.png')\n",
        "plt.imshow(a)"
      ],
      "metadata": {
        "colab": {
          "base_uri": "https://localhost:8080/",
          "height": 286
        },
        "id": "UMdj2G-qDDmC",
        "outputId": "a8431839-e5e3-4a86-cc11-c2354ddeb0c3"
      },
      "execution_count": 17,
      "outputs": [
        {
          "output_type": "execute_result",
          "data": {
            "text/plain": [
              "<matplotlib.image.AxesImage at 0x7fbeb84c5d10>"
            ]
          },
          "metadata": {},
          "execution_count": 17
        },
        {
          "output_type": "display_data",
          "data": {
            "text/plain": [
              "<Figure size 432x288 with 1 Axes>"
            ],
            "image/png": "[encoded data removed]"
          },
          "metadata": {
            "needs_background": "light"
          }
        }
      ]
    },
    {
      "cell_type": "code",
      "source": [
        "a = imread('gan_images/200.png')\n",
        "plt.imshow(a)"
      ],
      "metadata": {
        "colab": {
          "base_uri": "https://localhost:8080/",
          "height": 286
        },
        "id": "VK19d2bhDE6r",
        "outputId": "b61f9f20-e544-4e28-a061-896ba561cb4d"
      },
      "execution_count": 18,
      "outputs": [
        {
          "output_type": "execute_result",
          "data": {
            "text/plain": [
              "<matplotlib.image.AxesImage at 0x7fbeb84aad90>"
            ]
          },
          "metadata": {},
          "execution_count": 18
        },
        {
          "output_type": "display_data",
          "data": {
            "text/plain": [
              "<Figure size 432x288 with 1 Axes>"
            ],
            "image/png": "[encoded data removed]"
          },
          "metadata": {
            "needs_background": "light"
          }
        }
      ]
    },
    {
      "cell_type": "code",
      "source": [],
      "metadata": {
        "id": "6AYSUhpUDGML"
      },
      "execution_count": null,
      "outputs": []
    }
  ]
}